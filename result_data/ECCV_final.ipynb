{
 "cells": [
  {
   "cell_type": "code",
   "execution_count": 1,
   "metadata": {},
   "outputs": [],
   "source": [
    "import numpy as np\n",
    "import scipy.io as sio\n",
    "import matplotlib.pyplot as plt\n",
    "import math\n",
    "import pandas as pd\n",
    "import seaborn as sns\n",
    "from sklearn.utils import shuffle\n",
    "%matplotlib inline\n",
    "plt.style.use('default')\n",
    "line_markers = ['-.','-,','-o','-v','-^','-<','->','-1','-2','-3','-4','-s','-p','-*','-h','-H','-+','-x','-D','-d','-|','-_']\n",
    "line_markers = ['*','h','<','4','x','d','|','_']\n",
    "\n",
    "root = './'"
   ]
  },
  {
   "cell_type": "code",
   "execution_count": 2,
   "metadata": {},
   "outputs": [
    {
     "ename": "FileNotFoundError",
     "evalue": "[Errno 2] No such file or directory: 'ECCV_final_Imagenet_ssil_0_memsz_5000_base_50_step_50_batch_128_epoch_100_replay_16_factor_5.mat'",
     "output_type": "error",
     "traceback": [
      "\u001b[0;31m---------------------------------------------------------------------------\u001b[0m",
      "\u001b[0;31mFileNotFoundError\u001b[0m                         Traceback (most recent call last)",
      "\u001b[0;32m~/anaconda3/lib/python3.7/site-packages/scipy/io/matlab/mio.py\u001b[0m in \u001b[0;36m_open_file\u001b[0;34m(file_like, appendmat, mode)\u001b[0m\n\u001b[1;32m     38\u001b[0m     \u001b[0;32mtry\u001b[0m\u001b[0;34m:\u001b[0m\u001b[0;34m\u001b[0m\u001b[0;34m\u001b[0m\u001b[0m\n\u001b[0;32m---> 39\u001b[0;31m         \u001b[0;32mreturn\u001b[0m \u001b[0mopen\u001b[0m\u001b[0;34m(\u001b[0m\u001b[0mfile_like\u001b[0m\u001b[0;34m,\u001b[0m \u001b[0mmode\u001b[0m\u001b[0;34m)\u001b[0m\u001b[0;34m,\u001b[0m \u001b[0;32mTrue\u001b[0m\u001b[0;34m\u001b[0m\u001b[0;34m\u001b[0m\u001b[0m\n\u001b[0m\u001b[1;32m     40\u001b[0m     \u001b[0;32mexcept\u001b[0m \u001b[0mIOError\u001b[0m\u001b[0;34m:\u001b[0m\u001b[0;34m\u001b[0m\u001b[0;34m\u001b[0m\u001b[0m\n",
      "\u001b[0;31mFileNotFoundError\u001b[0m: [Errno 2] No such file or directory: 'ECCV_final_Imagenet_ssil_0_memsz_5000_base_50_step_50_batch_128_epoch_100_replay_16_factor_5.mat'",
      "\nDuring handling of the above exception, another exception occurred:\n",
      "\u001b[0;31mFileNotFoundError\u001b[0m                         Traceback (most recent call last)",
      "\u001b[0;32m<ipython-input-2-c99bd872f94a>\u001b[0m in \u001b[0;36m<module>\u001b[0;34m\u001b[0m\n\u001b[1;32m      1\u001b[0m \u001b[0mname\u001b[0m \u001b[0;34m=\u001b[0m \u001b[0;34m'ECCV_final_Imagenet_ssil_0_memsz_5000_base_50_step_50_batch_128_epoch_100_replay_16_factor_5.mat'\u001b[0m\u001b[0;34m\u001b[0m\u001b[0;34m\u001b[0m\u001b[0m\n\u001b[0;32m----> 2\u001b[0;31m \u001b[0mresult\u001b[0m \u001b[0;34m=\u001b[0m \u001b[0msio\u001b[0m\u001b[0;34m.\u001b[0m\u001b[0mloadmat\u001b[0m\u001b[0;34m(\u001b[0m\u001b[0mname\u001b[0m\u001b[0;34m)\u001b[0m\u001b[0;34m\u001b[0m\u001b[0;34m\u001b[0m\u001b[0m\n\u001b[0m\u001b[1;32m      3\u001b[0m \u001b[0mtop_1\u001b[0m \u001b[0;34m=\u001b[0m \u001b[0mresult\u001b[0m\u001b[0;34m[\u001b[0m\u001b[0;34m'all'\u001b[0m\u001b[0;34m]\u001b[0m\u001b[0;34m[\u001b[0m\u001b[0;36m0\u001b[0m\u001b[0;34m]\u001b[0m\u001b[0;34m[\u001b[0m\u001b[0;36m0\u001b[0m\u001b[0;34m]\u001b[0m\u001b[0;34m[\u001b[0m\u001b[0;36m0\u001b[0m\u001b[0;34m]\u001b[0m\u001b[0;34m[\u001b[0m\u001b[0;36m0\u001b[0m\u001b[0;34m]\u001b[0m\u001b[0;34m\u001b[0m\u001b[0;34m\u001b[0m\u001b[0m\n\u001b[1;32m      4\u001b[0m \u001b[0mtop_5\u001b[0m \u001b[0;34m=\u001b[0m \u001b[0mresult\u001b[0m\u001b[0;34m[\u001b[0m\u001b[0;34m'all'\u001b[0m\u001b[0;34m]\u001b[0m\u001b[0;34m[\u001b[0m\u001b[0;36m0\u001b[0m\u001b[0;34m]\u001b[0m\u001b[0;34m[\u001b[0m\u001b[0;36m0\u001b[0m\u001b[0;34m]\u001b[0m\u001b[0;34m[\u001b[0m\u001b[0;36m1\u001b[0m\u001b[0;34m]\u001b[0m\u001b[0;34m[\u001b[0m\u001b[0;36m0\u001b[0m\u001b[0;34m]\u001b[0m\u001b[0;34m\u001b[0m\u001b[0;34m\u001b[0m\u001b[0m\n\u001b[1;32m      5\u001b[0m \u001b[0;34m\u001b[0m\u001b[0m\n",
      "\u001b[0;32m~/anaconda3/lib/python3.7/site-packages/scipy/io/matlab/mio.py\u001b[0m in \u001b[0;36mloadmat\u001b[0;34m(file_name, mdict, appendmat, **kwargs)\u001b[0m\n\u001b[1;32m    214\u001b[0m     \"\"\"\n\u001b[1;32m    215\u001b[0m     \u001b[0mvariable_names\u001b[0m \u001b[0;34m=\u001b[0m \u001b[0mkwargs\u001b[0m\u001b[0;34m.\u001b[0m\u001b[0mpop\u001b[0m\u001b[0;34m(\u001b[0m\u001b[0;34m'variable_names'\u001b[0m\u001b[0;34m,\u001b[0m \u001b[0;32mNone\u001b[0m\u001b[0;34m)\u001b[0m\u001b[0;34m\u001b[0m\u001b[0;34m\u001b[0m\u001b[0m\n\u001b[0;32m--> 216\u001b[0;31m     \u001b[0;32mwith\u001b[0m \u001b[0m_open_file_context\u001b[0m\u001b[0;34m(\u001b[0m\u001b[0mfile_name\u001b[0m\u001b[0;34m,\u001b[0m \u001b[0mappendmat\u001b[0m\u001b[0;34m)\u001b[0m \u001b[0;32mas\u001b[0m \u001b[0mf\u001b[0m\u001b[0;34m:\u001b[0m\u001b[0;34m\u001b[0m\u001b[0;34m\u001b[0m\u001b[0m\n\u001b[0m\u001b[1;32m    217\u001b[0m         \u001b[0mMR\u001b[0m\u001b[0;34m,\u001b[0m \u001b[0m_\u001b[0m \u001b[0;34m=\u001b[0m \u001b[0mmat_reader_factory\u001b[0m\u001b[0;34m(\u001b[0m\u001b[0mf\u001b[0m\u001b[0;34m,\u001b[0m \u001b[0;34m**\u001b[0m\u001b[0mkwargs\u001b[0m\u001b[0;34m)\u001b[0m\u001b[0;34m\u001b[0m\u001b[0;34m\u001b[0m\u001b[0m\n\u001b[1;32m    218\u001b[0m         \u001b[0mmatfile_dict\u001b[0m \u001b[0;34m=\u001b[0m \u001b[0mMR\u001b[0m\u001b[0;34m.\u001b[0m\u001b[0mget_variables\u001b[0m\u001b[0;34m(\u001b[0m\u001b[0mvariable_names\u001b[0m\u001b[0;34m)\u001b[0m\u001b[0;34m\u001b[0m\u001b[0;34m\u001b[0m\u001b[0m\n",
      "\u001b[0;32m~/anaconda3/lib/python3.7/contextlib.py\u001b[0m in \u001b[0;36m__enter__\u001b[0;34m(self)\u001b[0m\n\u001b[1;32m    110\u001b[0m         \u001b[0;32mdel\u001b[0m \u001b[0mself\u001b[0m\u001b[0;34m.\u001b[0m\u001b[0margs\u001b[0m\u001b[0;34m,\u001b[0m \u001b[0mself\u001b[0m\u001b[0;34m.\u001b[0m\u001b[0mkwds\u001b[0m\u001b[0;34m,\u001b[0m \u001b[0mself\u001b[0m\u001b[0;34m.\u001b[0m\u001b[0mfunc\u001b[0m\u001b[0;34m\u001b[0m\u001b[0;34m\u001b[0m\u001b[0m\n\u001b[1;32m    111\u001b[0m         \u001b[0;32mtry\u001b[0m\u001b[0;34m:\u001b[0m\u001b[0;34m\u001b[0m\u001b[0;34m\u001b[0m\u001b[0m\n\u001b[0;32m--> 112\u001b[0;31m             \u001b[0;32mreturn\u001b[0m \u001b[0mnext\u001b[0m\u001b[0;34m(\u001b[0m\u001b[0mself\u001b[0m\u001b[0;34m.\u001b[0m\u001b[0mgen\u001b[0m\u001b[0;34m)\u001b[0m\u001b[0;34m\u001b[0m\u001b[0;34m\u001b[0m\u001b[0m\n\u001b[0m\u001b[1;32m    113\u001b[0m         \u001b[0;32mexcept\u001b[0m \u001b[0mStopIteration\u001b[0m\u001b[0;34m:\u001b[0m\u001b[0;34m\u001b[0m\u001b[0;34m\u001b[0m\u001b[0m\n\u001b[1;32m    114\u001b[0m             \u001b[0;32mraise\u001b[0m \u001b[0mRuntimeError\u001b[0m\u001b[0;34m(\u001b[0m\u001b[0;34m\"generator didn't yield\"\u001b[0m\u001b[0;34m)\u001b[0m \u001b[0;32mfrom\u001b[0m \u001b[0;32mNone\u001b[0m\u001b[0;34m\u001b[0m\u001b[0;34m\u001b[0m\u001b[0m\n",
      "\u001b[0;32m~/anaconda3/lib/python3.7/site-packages/scipy/io/matlab/mio.py\u001b[0m in \u001b[0;36m_open_file_context\u001b[0;34m(file_like, appendmat, mode)\u001b[0m\n\u001b[1;32m     17\u001b[0m \u001b[0;34m@\u001b[0m\u001b[0mcontextmanager\u001b[0m\u001b[0;34m\u001b[0m\u001b[0;34m\u001b[0m\u001b[0m\n\u001b[1;32m     18\u001b[0m \u001b[0;32mdef\u001b[0m \u001b[0m_open_file_context\u001b[0m\u001b[0;34m(\u001b[0m\u001b[0mfile_like\u001b[0m\u001b[0;34m,\u001b[0m \u001b[0mappendmat\u001b[0m\u001b[0;34m,\u001b[0m \u001b[0mmode\u001b[0m\u001b[0;34m=\u001b[0m\u001b[0;34m'rb'\u001b[0m\u001b[0;34m)\u001b[0m\u001b[0;34m:\u001b[0m\u001b[0;34m\u001b[0m\u001b[0;34m\u001b[0m\u001b[0m\n\u001b[0;32m---> 19\u001b[0;31m     \u001b[0mf\u001b[0m\u001b[0;34m,\u001b[0m \u001b[0mopened\u001b[0m \u001b[0;34m=\u001b[0m \u001b[0m_open_file\u001b[0m\u001b[0;34m(\u001b[0m\u001b[0mfile_like\u001b[0m\u001b[0;34m,\u001b[0m \u001b[0mappendmat\u001b[0m\u001b[0;34m,\u001b[0m \u001b[0mmode\u001b[0m\u001b[0;34m)\u001b[0m\u001b[0;34m\u001b[0m\u001b[0;34m\u001b[0m\u001b[0m\n\u001b[0m\u001b[1;32m     20\u001b[0m     \u001b[0;32myield\u001b[0m \u001b[0mf\u001b[0m\u001b[0;34m\u001b[0m\u001b[0;34m\u001b[0m\u001b[0m\n\u001b[1;32m     21\u001b[0m     \u001b[0;32mif\u001b[0m \u001b[0mopened\u001b[0m\u001b[0;34m:\u001b[0m\u001b[0;34m\u001b[0m\u001b[0;34m\u001b[0m\u001b[0m\n",
      "\u001b[0;32m~/anaconda3/lib/python3.7/site-packages/scipy/io/matlab/mio.py\u001b[0m in \u001b[0;36m_open_file\u001b[0;34m(file_like, appendmat, mode)\u001b[0m\n\u001b[1;32m     43\u001b[0m             \u001b[0;32mif\u001b[0m \u001b[0mappendmat\u001b[0m \u001b[0;32mand\u001b[0m \u001b[0;32mnot\u001b[0m \u001b[0mfile_like\u001b[0m\u001b[0;34m.\u001b[0m\u001b[0mendswith\u001b[0m\u001b[0;34m(\u001b[0m\u001b[0;34m'.mat'\u001b[0m\u001b[0;34m)\u001b[0m\u001b[0;34m:\u001b[0m\u001b[0;34m\u001b[0m\u001b[0;34m\u001b[0m\u001b[0m\n\u001b[1;32m     44\u001b[0m                 \u001b[0mfile_like\u001b[0m \u001b[0;34m+=\u001b[0m \u001b[0;34m'.mat'\u001b[0m\u001b[0;34m\u001b[0m\u001b[0;34m\u001b[0m\u001b[0m\n\u001b[0;32m---> 45\u001b[0;31m             \u001b[0;32mreturn\u001b[0m \u001b[0mopen\u001b[0m\u001b[0;34m(\u001b[0m\u001b[0mfile_like\u001b[0m\u001b[0;34m,\u001b[0m \u001b[0mmode\u001b[0m\u001b[0;34m)\u001b[0m\u001b[0;34m,\u001b[0m \u001b[0;32mTrue\u001b[0m\u001b[0;34m\u001b[0m\u001b[0;34m\u001b[0m\u001b[0m\n\u001b[0m\u001b[1;32m     46\u001b[0m         \u001b[0;32melse\u001b[0m\u001b[0;34m:\u001b[0m\u001b[0;34m\u001b[0m\u001b[0;34m\u001b[0m\u001b[0m\n\u001b[1;32m     47\u001b[0m             \u001b[0;32mraise\u001b[0m \u001b[0mIOError\u001b[0m\u001b[0;34m(\u001b[0m\u001b[0;34m'Reader needs file name or open file-like object'\u001b[0m\u001b[0;34m)\u001b[0m\u001b[0;34m\u001b[0m\u001b[0;34m\u001b[0m\u001b[0m\n",
      "\u001b[0;31mFileNotFoundError\u001b[0m: [Errno 2] No such file or directory: 'ECCV_final_Imagenet_ssil_0_memsz_5000_base_50_step_50_batch_128_epoch_100_replay_16_factor_5.mat'"
     ]
    }
   ],
   "source": [
    "name = 'ECCV_final_Imagenet_ssil_0_memsz_5000_base_50_step_50_batch_128_epoch_100_replay_16_factor_5.mat'\n",
    "result = sio.loadmat(name)\n",
    "top_1 = result['all'][0][0][0][0]\n",
    "top_5 = result['all'][0][0][1][0]\n",
    "\n",
    "print(top_1)\n",
    "print(sum(top_1)/20)\n",
    "print(top_5)\n",
    "print(sum(top_5)/20)\n",
    "\n",
    "name = 'prev_results/RESULT_Imagenet_er_0_memsz_5000_alpha_1_beta_0.0001_base_50_replay_16_batch_128_epoch_100_factor_5_RingBuffer_CE_lr_change.mat'\n",
    "result = sio.loadmat(name)\n",
    "top_1 = result['all'][0][0][0][0]\n",
    "top_5 = result['all'][0][0][1][0]\n",
    "\n",
    "print(top_1)\n",
    "print(sum(top_1)/20)\n",
    "print(top_5)\n",
    "print(sum(top_5)/20)\n",
    "\n",
    "\n"
   ]
  },
  {
   "cell_type": "code",
   "execution_count": null,
   "metadata": {},
   "outputs": [],
   "source": [
    "name = 'ECCV_final_Imagenet_ssil_0_memsz_5000_base_100_step_100_batch_128_epoch_100_replay_32_factor_5.mat'\n",
    "result = sio.loadmat(name)\n",
    "top_1 = result['all'][0][0][0][0]\n",
    "top_5 = result['all'][0][0][1][0]\n",
    "\n",
    "print(top_1)\n",
    "print(sum(top_1)/10)\n",
    "print(top_5)\n",
    "print(sum(top_5)/10)\n",
    "\n",
    "name = 'prev_results/RESULT_Imagenet_er_0_memsz_5000_alpha_1_beta_0.0001_base_100_replay_32_batch_128_epoch_100_factor_5_RingBuffer_CE_lr_change.mat'\n",
    "result = sio.loadmat(name)\n",
    "top_1 = result['all'][0][0][0][0]\n",
    "top_5 = result['all'][0][0][1][0]\n",
    "\n",
    "print(top_1)\n",
    "print(sum(top_1)/10)\n",
    "print(top_5)\n",
    "print(sum(top_5)/10)\n",
    "\n",
    "\n",
    "\n"
   ]
  },
  {
   "cell_type": "code",
   "execution_count": null,
   "metadata": {},
   "outputs": [],
   "source": [
    "name = 'ECCV_final_Imagenet_ssil_0_memsz_5000_base_200_step_200_batch_128_epoch_100_replay_64_factor_5.mat'\n",
    "result = sio.loadmat(name)\n",
    "top_1 = result['all'][0][0][0][0]\n",
    "top_5 = result['all'][0][0][1][0]\n",
    "\n",
    "print(top_1)\n",
    "print(sum(top_1)/5)\n",
    "print(top_5)\n",
    "print(sum(top_5)/5)\n",
    "\n",
    "name = 'prev_results/RESULT_Imagenet_er_0_memsz_5000_alpha_1_beta_0.0001_base_200_replay_64_batch_128_epoch_100_factor_5_RingBuffer_CE_lr_change.mat'\n",
    "result = sio.loadmat(name)\n",
    "top_1 = result['all'][0][0][0][0]\n",
    "top_5 = result['all'][0][0][1][0]\n",
    "\n",
    "print(top_1)\n",
    "print(sum(top_1)/5)\n",
    "print(top_5)\n",
    "print(sum(top_5)/5)"
   ]
  },
  {
   "cell_type": "code",
   "execution_count": null,
   "metadata": {},
   "outputs": [],
   "source": [
    "name = 'ECCV_final_Imagenet_ssil_0_memsz_10000_base_100_step_100_batch_128_epoch_100_replay_32_factor_5.mat'\n",
    "result = sio.loadmat(name)\n",
    "top_1 = result['all'][0][0][0][0]\n",
    "top_5 = result['all'][0][0][1][0]\n",
    "\n",
    "print(top_1)\n",
    "print(sum(top_1)/10)\n",
    "print(top_5)\n",
    "print(sum(top_5)/10)\n",
    "\n",
    "name = 'prev_results/RESULT_Imagenet_er_0_memsz_10000_alpha_1_beta_0.0001_base_100_replay_32_batch_128_epoch_100_factor_5_RingBuffer_CE_lr_change.mat'\n",
    "result = sio.loadmat(name)\n",
    "top_1 = result['all'][0][0][0][0]\n",
    "top_5 = result['all'][0][0][1][0]\n",
    "\n",
    "print(top_1)\n",
    "print(sum(top_1)/10)\n",
    "print(top_5)\n",
    "print(sum(top_5)/10)"
   ]
  },
  {
   "cell_type": "code",
   "execution_count": null,
   "metadata": {},
   "outputs": [],
   "source": [
    "name = 'ECCV_final_Imagenet_ft_0_memsz_20000_base_100_step_100_batch_128_epoch_100_factor_4.mat'\n",
    "result = sio.loadmat(name)\n",
    "top_1 = result['all'][0][0][0][0]\n",
    "top_5 = result['all'][0][0][1][0]\n",
    "\n",
    "print(top_1)\n",
    "print(top_5)\n",
    "print(result['task_soft_1'])\n",
    "print(result['all'][0][0][2])"
   ]
  },
  {
   "cell_type": "code",
   "execution_count": null,
   "metadata": {},
   "outputs": [],
   "source": [
    "name = 'ECCV_final_Imagenet_ssil_0_memsz_5000_base_100_step_100_batch_128_epoch_100_replay_32_factor_5.mat'\n",
    "result = sio.loadmat(name)\n",
    "top_1 = result['all'][0][0][0][0]\n",
    "top_5 = result['all'][0][0][1][0]\n",
    "\n",
    "print(top_1)\n",
    "print(top_5)\n",
    "print(result['task_soft_1'])\n",
    "print(result['all'][0][0][2])"
   ]
  },
  {
   "cell_type": "code",
   "execution_count": null,
   "metadata": {},
   "outputs": [],
   "source": [
    "name = 'ECCV_final_Imagenet_bic_0_memsz_5000_base_100_step_100_batch_256_epoch_100.mat'\n",
    "result = sio.loadmat(name)\n",
    "top_1 = result['all'][0][0][0][0]\n",
    "top_5 = result['all'][0][0][1][0]\n",
    "\n",
    "print(top_1)\n",
    "print(top_5)\n",
    "print(result['task_soft_1'])\n",
    "print(result['all'][0][0][2])"
   ]
  },
  {
   "cell_type": "code",
   "execution_count": null,
   "metadata": {},
   "outputs": [],
   "source": [
    "name = 'ECCV_final_Imagenet_bic_0_memsz_5000_base_200_step_200_batch_256_epoch_100.mat'\n",
    "result = sio.loadmat(name)\n",
    "top_1 = result['all'][0][0][0][0]\n",
    "top_5 = result['all'][0][0][1][0]\n",
    "\n",
    "print(top_1)\n",
    "print(top_5)\n",
    "print(result['task_soft_1'])\n",
    "print(result['all'][0][s0][2])"
   ]
  },
  {
   "cell_type": "code",
   "execution_count": null,
   "metadata": {},
   "outputs": [],
   "source": [
    "name = 'ECCV_final_Imagenet_ft_0_memsz_20000_base_100_step_100_batch_128_epoch_100_factor_4.mat'\n",
    "result = sio.loadmat(name)\n",
    "top_1_all = result['all'][0][0][0][0]\n",
    "top_1_prev_new = result['prev_new'][0][0][0][0]\n",
    "\n",
    "print(top_1_all)\n",
    "print(top_1_prev_new)\n",
    "# print(result['task_soft_1'])\n",
    "# print(result['all'][0][s0][2])"
   ]
  },
  {
   "cell_type": "code",
   "execution_count": null,
   "metadata": {},
   "outputs": [],
   "source": [
    "name = 'ECCV_final_Imagenet_ssil_0_memsz_20000_base_100_step_100_batch_128_epoch_100_replay_32_factor_5.mat'\n",
    "result = sio.loadmat(name)\n",
    "top_1_all = result['all'][0][0][0][0]\n",
    "top_1_prev_new = result['prev_new'][0][0][0][0]\n",
    "\n",
    "print(top_1_all)\n",
    "print(top_1_prev_new)\n",
    "# print(result['task_soft_1'])\n",
    "# print(result['all'][0][s0][2])"
   ]
  }
 ],
 "metadata": {
  "kernelspec": {
   "display_name": "Python 3",
   "language": "python",
   "name": "python3"
  },
  "language_info": {
   "codemirror_mode": {
    "name": "ipython",
    "version": 3
   },
   "file_extension": ".py",
   "mimetype": "text/x-python",
   "name": "python",
   "nbconvert_exporter": "python",
   "pygments_lexer": "ipython3",
   "version": "3.7.6"
  }
 },
 "nbformat": 4,
 "nbformat_minor": 2
}
